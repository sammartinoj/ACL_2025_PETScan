{
 "cells": [
  {
   "cell_type": "markdown",
   "id": "233d83e9-2b44-47ca-a31d-0b6ced37f4f6",
   "metadata": {},
   "source": [
    "# Calculating Cohen's Kappa"
   ]
  },
  {
   "cell_type": "code",
   "execution_count": 2,
   "id": "a5dac269-9062-472a-ad60-db64d6bd4075",
   "metadata": {},
   "outputs": [],
   "source": [
    "# necessary packages\n",
    "from sklearn.metrics import cohen_kappa_score\n",
    "import pandas as pd\n"
   ]
  },
  {
   "cell_type": "code",
   "execution_count": 37,
   "id": "c8a2c403-aa1c-43f3-b8ad-cec32026c403",
   "metadata": {},
   "outputs": [],
   "source": [
    "file1 = input('File 1 path:')\n",
    "results_file_1 = pd.DataFrame(pd.read_csv('file1'))"
   ]
  },
  {
   "cell_type": "code",
   "execution_count": 40,
   "id": "b9a6501c-22b6-45ec-bd62-fa68a3a2128c",
   "metadata": {},
   "outputs": [],
   "source": [
    "file2 = input('File 2 path:')\n",
    "results_file_2 = pd.DataFrame(pd.read_csv('file2'))"
   ]
  },
  {
   "cell_type": "code",
   "execution_count": 34,
   "id": "dbe9c316-e2c6-4df9-9271-1b52f4295de1",
   "metadata": {},
   "outputs": [
    {
     "name": "stdout",
     "output_type": "stream",
     "text": [
      "Cohen's Kappa: 0.6613736368854027\n",
      "Cohen's Kappa: 0.46225526881201273\n",
      "Cohen's Kappa: 0.5673192343787512\n",
      "Cohen's Kappa: 0.68275438057178\n",
      "Cohen's Kappa: 0.56657223796034\n"
     ]
    }
   ],
   "source": [
    "import regex as re\n",
    "\n",
    "kappa_list = []\n",
    "trial_numbers \n",
    "language = input('Langauge': )\n",
    "\n",
    "# iterate over file numbers and calculate kohen's kappa\n",
    "\n",
    "\n",
    "for i in range(trial_numbers):\n",
    "    predictions_1 = results_file_1[results_file_1['LANG'] == 'language']['preds'][i]\n",
    "    predictions_2 = results_file_2[results_file_2['LANG']=='language']['preds'][i]\n",
    "    onlynum1 =re.findall('\\d', yo)\n",
    "    onlynum2 =re.findall('\\d', chyo)\n",
    "    kappa = cohen_kappa_score(onlynum1, onlynum2)\n",
    "    print(f\"Cohen's Kappa: {kappa}\")\n",
    "    kappa_list.append(kappa)"
   ]
  },
  {
   "cell_type": "code",
   "execution_count": 46,
   "id": "efd16fa9-e895-4278-b25f-20991952c7fa",
   "metadata": {},
   "outputs": [
    {
     "name": "stdout",
     "output_type": "stream",
     "text": [
      "Average Cohen's Kappa: 0.5880549517216573\n"
     ]
    }
   ],
   "source": [
    "# average cohen's kappa over all trials\n",
    "print(f\"Average Cohen's Kappa: {sum(kappa_list)/len(kappa_list)}\")"
   ]
  }
 ],
 "metadata": {
  "kernelspec": {
   "display_name": "Python 3 (ipykernel)",
   "language": "python",
   "name": "python3"
  },
  "language_info": {
   "codemirror_mode": {
    "name": "ipython",
    "version": 3
   },
   "file_extension": ".py",
   "mimetype": "text/x-python",
   "name": "python",
   "nbconvert_exporter": "python",
   "pygments_lexer": "ipython3",
   "version": "3.7.15"
  }
 },
 "nbformat": 4,
 "nbformat_minor": 5
}
